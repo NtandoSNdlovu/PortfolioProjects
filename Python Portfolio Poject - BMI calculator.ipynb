{
 "cells": [
  {
   "cell_type": "markdown",
   "id": "fb4c946b",
   "metadata": {},
   "source": [
    "# BMI Calculator "
   ]
  },
  {
   "cell_type": "code",
   "execution_count": null,
   "id": "3121c974",
   "metadata": {},
   "outputs": [],
   "source": [
    "# In this project, I demonstrated my profiecient undestanding of Python.\n",
    "# I used Python to create a BMI calculator by making use of the following skills:\n",
    "\n",
    "# Functions such as 'input'\n",
    "# if-elis-else statments\n",
    "# coverting data types\n",
    "# calculations\n",
    "# etc.  "
   ]
  },
  {
   "cell_type": "code",
   "execution_count": 2,
   "id": "252aed87",
   "metadata": {},
   "outputs": [
    {
     "name": "stdout",
     "output_type": "stream",
     "text": [
      "Enter your name: Ntando\n",
      "Enter your weight in kilograms: 70\n",
      "Enter your height in metres: 1.85\n",
      "20.45288531775018\n",
      "Ntando, your weight is normal. Your health is at minimal risk.\n"
     ]
    }
   ],
   "source": [
    "name = input(\"Enter your name: \")\n",
    "\n",
    "weight = float(input(\"Enter your weight in kilograms: \"))\n",
    "\n",
    "height = float(input(\"Enter your height in metres: \"))\n",
    "\n",
    "BMI = (weight)/(height * height)\n",
    "\n",
    "print(BMI)\n",
    "\n",
    "if(BMI>0):\n",
    "    if (BMI<18.5):\n",
    "        print (name +', you are underweight. Your health is at a minimal risk.')\n",
    "    elif (BMI<=24.9):\n",
    "        print (name +', your weight is normal. Your health is at minimal risk.')\n",
    "    elif (BMI<=29.9):\n",
    "        print (name +', you are overweight. Your health risk is increased.')\n",
    "    elif (BMI<=34.9):\n",
    "        print (name +', you are obese. Your health risk is high.') \n",
    "    elif (BMI <=39.9): \n",
    "        print (name +', you are severely overweight. Your health risk is high.')\n",
    "    elif (BMI>39.9):\n",
    "        print (name +', you are absurdly overweight. Your health risk is extremely high. ')\n",
    "    else:\n",
    "        print ('invalid input(s)')"
   ]
  },
  {
   "cell_type": "code",
   "execution_count": null,
   "id": "2c8fac8d",
   "metadata": {},
   "outputs": [],
   "source": []
  }
 ],
 "metadata": {
  "kernelspec": {
   "display_name": "Python 3 (ipykernel)",
   "language": "python",
   "name": "python3"
  },
  "language_info": {
   "codemirror_mode": {
    "name": "ipython",
    "version": 3
   },
   "file_extension": ".py",
   "mimetype": "text/x-python",
   "name": "python",
   "nbconvert_exporter": "python",
   "pygments_lexer": "ipython3",
   "version": "3.11.4"
  }
 },
 "nbformat": 4,
 "nbformat_minor": 5
}
